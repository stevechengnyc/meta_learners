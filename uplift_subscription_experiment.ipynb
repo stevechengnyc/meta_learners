{
 "cells": [
  {
   "cell_type": "markdown",
   "id": "7df775f1",
   "metadata": {},
   "source": [
    "\n",
    "# 📈 Simulating Uplift Modeling Experiment for Subscription Renewal\n",
    "\n",
    "This notebook simulates a randomized controlled experiment for uplift modeling in the context of a **subscription renewal offer**.\n",
    "\n",
    "- Users are randomly assigned to **treatment** (renewal discount) or **control**.\n",
    "- We observe whether each user **renews** their subscription.\n",
    "- We simulate **heterogeneous treatment effects** based on user features.\n",
    "- We estimate uplift using S-, T-, and X-learners.\n"
   ]
  },
  {
   "cell_type": "code",
   "execution_count": null,
   "id": "619ffa22",
   "metadata": {},
   "outputs": [],
   "source": [
    "\n",
    "import numpy as np\n",
    "import pandas as pd\n",
    "import matplotlib.pyplot as plt\n",
    "from sklearn.ensemble import GradientBoostingClassifier\n",
    "from sklearn.model_selection import train_test_split\n",
    "from econml.metalearners import SLearner, TLearner, XLearner\n",
    "\n",
    "np.random.seed(42)\n"
   ]
  },
  {
   "cell_type": "code",
   "execution_count": null,
   "id": "fef9f288",
   "metadata": {},
   "outputs": [],
   "source": [
    "\n",
    "# Simulate user features\n",
    "n = 10000\n",
    "X = np.random.normal(0, 1, (n, 5))\n",
    "df = pd.DataFrame(X, columns=[f\"x{i}\" for i in range(1, 6)])\n",
    "\n",
    "# Simulate treatment assignment (randomized experiment)\n",
    "df['treatment'] = np.random.binomial(1, 0.3, size=n)\n",
    "\n",
    "# Simulate heterogeneous treatment effect\n",
    "# Users with x3 > 0 respond more positively to the renewal offer\n",
    "base_renewal_prob = 0.4 + 0.1 * (df['x1'] > 0) - 0.1 * (df['x2'] < 0)\n",
    "treatment_effect = 0.15 * (df['x3'] > 0) - 0.05 * (df['x4'] < 0)\n",
    "\n",
    "# Simulate outcome\n",
    "p_renewal = base_renewal_prob + df['treatment'] * treatment_effect\n",
    "df['renewed'] = np.random.binomial(1, p_renewal.clip(0, 1))\n",
    "\n",
    "df.head()\n"
   ]
  },
  {
   "cell_type": "code",
   "execution_count": null,
   "id": "ec41b8e6",
   "metadata": {},
   "outputs": [],
   "source": [
    "\n",
    "# Prepare data\n",
    "X = df[[f\"x{i}\" for i in range(1, 6)]].values\n",
    "T = df['treatment'].values\n",
    "Y = df['renewed'].values\n"
   ]
  },
  {
   "cell_type": "markdown",
   "id": "b6b9dc7d",
   "metadata": {},
   "source": [
    "## Train and Compare Metalearners"
   ]
  },
  {
   "cell_type": "code",
   "execution_count": null,
   "id": "3a8ed438",
   "metadata": {},
   "outputs": [],
   "source": [
    "\n",
    "# Use GradientBoostingClassifier as base model\n",
    "base_model = GradientBoostingClassifier(n_estimators=100, max_depth=3)\n",
    "\n",
    "s_learner = SLearner(overall_model=base_model)\n",
    "t_learner = TLearner(models=GradientBoostingClassifier())\n",
    "x_learner = XLearner(models=GradientBoostingClassifier())\n",
    "\n",
    "# Fit\n",
    "s_learner.fit(Y, T, X)\n",
    "t_learner.fit(Y, T, X)\n",
    "x_learner.fit(Y, T, X)\n",
    "\n",
    "# Predict uplift\n",
    "tau_s = s_learner.effect(X)\n",
    "tau_t = t_learner.effect(X)\n",
    "tau_x = x_learner.effect(X)\n"
   ]
  },
  {
   "cell_type": "code",
   "execution_count": null,
   "id": "6628e2c9",
   "metadata": {},
   "outputs": [],
   "source": [
    "\n",
    "# Plot distribution of estimated uplift\n",
    "plt.figure(figsize=(8,5))\n",
    "plt.hist(tau_s, bins=30, alpha=0.5, label=\"S-Learner\")\n",
    "plt.hist(tau_t, bins=30, alpha=0.5, label=\"T-Learner\")\n",
    "plt.hist(tau_x, bins=30, alpha=0.5, label=\"X-Learner\")\n",
    "plt.title(\"Estimated Uplift Distribution\")\n",
    "plt.xlabel(\"Estimated Treatment Effect\")\n",
    "plt.ylabel(\"Number of Users\")\n",
    "plt.legend()\n",
    "plt.show()\n"
   ]
  },
  {
   "cell_type": "markdown",
   "id": "f750ac53",
   "metadata": {},
   "source": [
    "## Summary"
   ]
  },
  {
   "cell_type": "code",
   "execution_count": null,
   "id": "0bb750c8",
   "metadata": {},
   "outputs": [],
   "source": [
    "\n",
    "# Show top users to target (highest estimated uplift)\n",
    "df['tau_x'] = tau_x\n",
    "df.sort_values(by='tau_x', ascending=False).head(10)\n"
   ]
  }
 ],
 "metadata": {},
 "nbformat": 4,
 "nbformat_minor": 5
}
